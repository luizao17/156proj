{
 "cells": [
  {
   "cell_type": "code",
   "execution_count": 1,
   "id": "c301a809-b2ab-43c0-9c2b-978a0fe130e4",
   "metadata": {},
   "outputs": [],
   "source": [
    "import numpy as np\n",
    "import layers\n",
    "import activations\n",
    "import nn\n",
    "import losses\n",
    "import optimizers"
   ]
  },
  {
   "cell_type": "code",
   "execution_count": null,
   "id": "8290b0fc",
   "metadata": {},
   "outputs": [],
   "source": []
  },
  {
   "cell_type": "code",
   "execution_count": 2,
   "id": "748e870c",
   "metadata": {},
   "outputs": [
    {
     "name": "stdout",
     "output_type": "stream",
     "text": [
      "WARNING:tensorflow:From C:\\Users\\andre\\Desktop\\Pytorch\\Lib\\site-packages\\keras\\src\\losses.py:2976: The name tf.losses.sparse_softmax_cross_entropy is deprecated. Please use tf.compat.v1.losses.sparse_softmax_cross_entropy instead.\n",
      "\n",
      "Epoch 0, Loss: 0.30388650794318056\n",
      "Epoch 1, Loss: 0.23451448598412672\n",
      "Epoch 2, Loss: 0.1947146335989228\n",
      "Epoch 3, Loss: 0.16632126534806554\n",
      "Epoch 4, Loss: 0.1446601276874145\n",
      "Epoch 5, Loss: 0.1275048110244604\n",
      "Epoch 6, Loss: 0.1136380144545812\n",
      "Epoch 7, Loss: 0.10224636958361265\n",
      "Epoch 8, Loss: 0.09273874817077025\n",
      "Epoch 9, Loss: 0.08466431712176693\n",
      "Epoch 10, Loss: 0.07768892036520081\n",
      "Epoch 11, Loss: 0.07157834172562899\n",
      "Epoch 12, Loss: 0.06616775478382708\n",
      "Epoch 13, Loss: 0.061339197719228584\n",
      "Epoch 14, Loss: 0.05700038589165272\n",
      "Epoch 15, Loss: 0.0530757590270162\n",
      "Epoch 16, Loss: 0.04950290985477912\n",
      "Epoch 17, Loss: 0.04623247360489595\n",
      "Epoch 18, Loss: 0.043223476387376655\n",
      "Epoch 19, Loss: 0.04044293975955149\n",
      "Epoch 20, Loss: 0.037865741216842295\n",
      "Epoch 21, Loss: 0.03547171037512775\n",
      "Epoch 22, Loss: 0.03324415393041199\n",
      "Epoch 23, Loss: 0.03116853933068237\n",
      "Epoch 24, Loss: 0.029231554606828823\n",
      "Epoch 25, Loss: 0.027421723004387406\n",
      "Epoch 26, Loss: 0.025729235338172122\n",
      "Epoch 27, Loss: 0.024145980472097272\n",
      "Epoch 28, Loss: 0.022664846645067876\n",
      "Epoch 29, Loss: 0.021279517006094834\n",
      "Accuracy: 0.9761\n"
     ]
    }
   ],
   "source": [
    "from tensorflow.keras.datasets import mnist\n",
    "import numpy as np\n",
    "\n",
    "# Load and preprocess the MNIST dataset\n",
    "(X_train, y_train), (X_test, y_test) = mnist.load_data()\n",
    "X_train = X_train.reshape(-1, 784) / 255.0\n",
    "X_test = X_test.reshape(-1, 784) / 255.0\n",
    "\n",
    "# Convert labels to one-hot encoded vectors\n",
    "def one_hot_encode(labels, num_classes):\n",
    "    num_samples = labels.shape[0]\n",
    "    encoded_labels = np.zeros((num_samples, num_classes))\n",
    "    for i in range(num_samples):\n",
    "        encoded_labels[i, labels[i]] = 1\n",
    "    return encoded_labels\n",
    "\n",
    "num_classes = 10\n",
    "y_train_one_hot = one_hot_encode(y_train, num_classes)\n",
    "y_test_one_hot = one_hot_encode(y_test, num_classes)\n",
    "\n",
    "\n",
    "# Create the model\n",
    "input_size = 784\n",
    "num_units = 128\n",
    "model = nn.Sequential()\n",
    "model.add(layers.InputLayer(input_shape=input_size))\n",
    "model.add(layers.Dense(input_size, num_units, activation=activations.Sigmoid, optimizer=optimizers.RMSprop))\n",
    "model.add(layers.Dense(num_units, num_classes, activation=activations.Softmax, optimizer=optimizers.RMSprop))\n",
    "\n",
    "# Train the model\n",
    "epochs = 30\n",
    "learning_rate = 0.001\n",
    "batch_size = 128\n",
    "model.train(X_train.T, y_train_one_hot.T, epochs, learning_rate, batch_size, loss=losses.CrossEntropy)\n",
    "\n",
    "# Make predictions\n",
    "predictions = model.predict(X_test.T)\n",
    "\n",
    "# Convert predictions to class labels\n",
    "predicted_labels = np.argmax(predictions, axis=0)\n",
    "\n",
    "# Calculate accuracy\n",
    "accuracy = np.mean(predicted_labels == y_test)\n",
    "print(\"Accuracy:\", accuracy)"
   ]
  },
  {
   "cell_type": "code",
   "execution_count": null,
   "id": "37840c7d",
   "metadata": {},
   "outputs": [],
   "source": []
  }
 ],
 "metadata": {
  "kernelspec": {
   "display_name": "Python 3 (ipykernel)",
   "language": "python",
   "name": "python3"
  },
  "language_info": {
   "codemirror_mode": {
    "name": "ipython",
    "version": 3
   },
   "file_extension": ".py",
   "mimetype": "text/x-python",
   "name": "python",
   "nbconvert_exporter": "python",
   "pygments_lexer": "ipython3",
   "version": "3.11.3"
  }
 },
 "nbformat": 4,
 "nbformat_minor": 5
}
